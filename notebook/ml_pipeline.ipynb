{
 "cells": [
  {
   "cell_type": "markdown",
   "metadata": {},
   "source": [
    "## Machile Learning Pipeline with Logistic Regression on Iris Dataset"
   ]
  },
  {
   "cell_type": "code",
   "execution_count": 2,
   "metadata": {},
   "outputs": [],
   "source": [
    "# Import Libraries\n",
    "import pandas as pd\n",
    "from sklearn.datasets import load_iris\n",
    "from src.model.ml_pipeline import MLPipeline"
   ]
  },
  {
   "cell_type": "code",
   "execution_count": 4,
   "metadata": {},
   "outputs": [],
   "source": [
    "# Load dataset\n",
    "iris = load_iris()\n",
    "iris_data = pd.DataFrame(iris.data, columns=iris.feature_names)\n",
    "iris_data['target'] = iris.target"
   ]
  },
  {
   "cell_type": "code",
   "execution_count": 5,
   "metadata": {},
   "outputs": [],
   "source": [
    "# Create an instance of the MLPipeline\n",
    "pipeline = MLPipeline()"
   ]
  },
  {
   "cell_type": "code",
   "execution_count": 7,
   "metadata": {},
   "outputs": [
    {
     "name": "stderr",
     "output_type": "stream",
     "text": [
      "2024-09-20 21:06:39,032 - src.utils.decorators - INFO - Starting preprocess\n",
      "2024-09-20 21:06:39,035 - src.utils.decorators - INFO - It took 0.0020 seconds\n",
      "2024-09-20 21:06:39,036 - src.utils.decorators - INFO - Finished preprocess\n"
     ]
    }
   ],
   "source": [
    "# Step 1: Preprocess the data \n",
    "X_train, X_test, y_train, y_test = pipeline.preprocess(iris_data, 'target')"
   ]
  },
  {
   "cell_type": "code",
   "execution_count": 8,
   "metadata": {},
   "outputs": [
    {
     "name": "stderr",
     "output_type": "stream",
     "text": [
      "2024-09-20 21:06:50,349 - src.utils.decorators - INFO - Starting train\n",
      "2024-09-20 21:06:50,350 - root - INFO - Training the model...\n",
      "2024-09-20 21:06:50,363 - root - INFO - Training completed.\n",
      "2024-09-20 21:06:50,363 - src.utils.decorators - INFO - It took 0.0136 seconds\n",
      "2024-09-20 21:06:50,364 - src.utils.decorators - INFO - Finished train\n"
     ]
    }
   ],
   "source": [
    "# Step 2: Train the model\n",
    "pipeline.train(X_train, y_train)"
   ]
  },
  {
   "cell_type": "code",
   "execution_count": 9,
   "metadata": {},
   "outputs": [
    {
     "name": "stderr",
     "output_type": "stream",
     "text": [
      "2024-09-20 21:07:01,799 - src.utils.decorators - INFO - Starting evaluate\n",
      "2024-09-20 21:07:01,806 - src.utils.decorators - INFO - Finished evaluate\n"
     ]
    }
   ],
   "source": [
    "# Step 3: Evaluate the model\n",
    "metrics = pipeline.evaluate(X_test, y_test)"
   ]
  },
  {
   "cell_type": "code",
   "execution_count": 10,
   "metadata": {},
   "outputs": [
    {
     "name": "stdout",
     "output_type": "stream",
     "text": [
      "Model Accuracy: 1.00\n",
      "Model Precision: 1.00\n",
      "Model Recall: 1.00\n",
      "Model F1 Score: 1.00\n"
     ]
    }
   ],
   "source": [
    "# Output the evaluation metrics\n",
    "print(f\"Model Accuracy: {metrics['accuracy']:.2f}\")\n",
    "print(f\"Model Precision: {metrics['precision']:.2f}\")\n",
    "print(f\"Model Recall: {metrics['recall']:.2f}\")\n",
    "print(f\"Model F1 Score: {metrics['f1_score']:.2f}\")"
   ]
  }
 ],
 "metadata": {
  "kernelspec": {
   "display_name": "mlops_assignment",
   "language": "python",
   "name": "python3"
  },
  "language_info": {
   "codemirror_mode": {
    "name": "ipython",
    "version": 3
   },
   "file_extension": ".py",
   "mimetype": "text/x-python",
   "name": "python",
   "nbconvert_exporter": "python",
   "pygments_lexer": "ipython3",
   "version": "3.12.1"
  }
 },
 "nbformat": 4,
 "nbformat_minor": 2
}
