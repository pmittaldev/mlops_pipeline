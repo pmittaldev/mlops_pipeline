{
 "cells": [
  {
   "cell_type": "code",
   "execution_count": 1,
   "metadata": {},
   "outputs": [],
   "source": [
    "import pandas as pd\n",
    "from src.model.ml_pipeline import MLPipeline"
   ]
  },
  {
   "cell_type": "code",
   "execution_count": 2,
   "metadata": {},
   "outputs": [],
   "source": [
    "# Load dataset\n",
    "data = pd.read_csv('../datasets/iris.csv')"
   ]
  },
  {
   "cell_type": "code",
   "execution_count": 3,
   "metadata": {},
   "outputs": [],
   "source": [
    "# Create an instance of the MLPipeline\n",
    "pipeline = MLPipeline()"
   ]
  },
  {
   "cell_type": "code",
   "execution_count": 5,
   "metadata": {},
   "outputs": [
    {
     "name": "stderr",
     "output_type": "stream",
     "text": [
      "2024-09-20 11:06:57,486 - src.utils.decorators - INFO - Starting preprocess\n",
      "2024-09-20 11:06:57,492 - src.utils.decorators - INFO - preprocess took 0.0046 seconds\n",
      "2024-09-20 11:06:57,494 - src.utils.decorators - INFO - Finished preprocess\n"
     ]
    }
   ],
   "source": [
    "# Step 1: Preprocess the data \n",
    "X, y = pipeline.preprocess(data, 'Species')"
   ]
  },
  {
   "cell_type": "code",
   "execution_count": 6,
   "metadata": {},
   "outputs": [
    {
     "name": "stderr",
     "output_type": "stream",
     "text": [
      "2024-09-20 11:07:12,625 - src.utils.decorators - INFO - Starting train\n",
      "2024-09-20 11:07:12,632 - src.utils.decorators - INFO - train took 0.0065 seconds\n",
      "2024-09-20 11:07:12,632 - src.utils.decorators - INFO - Finished train\n"
     ]
    }
   ],
   "source": [
    "# Step 2: Train the model\n",
    "X_test, y_test = pipeline.train(X, y)"
   ]
  },
  {
   "cell_type": "code",
   "execution_count": 7,
   "metadata": {},
   "outputs": [
    {
     "name": "stderr",
     "output_type": "stream",
     "text": [
      "2024-09-20 11:07:21,275 - src.utils.decorators - INFO - Starting evaluate\n",
      "2024-09-20 11:07:21,279 - src.utils.decorators - INFO - evaluate took 0.0027 seconds\n",
      "2024-09-20 11:07:21,280 - src.utils.decorators - INFO - Finished evaluate\n"
     ]
    }
   ],
   "source": [
    "# Step 3: Evaluate the model\n",
    "accuracy = pipeline.evaluate(X_test, y_test)"
   ]
  },
  {
   "cell_type": "code",
   "execution_count": 8,
   "metadata": {},
   "outputs": [
    {
     "name": "stdout",
     "output_type": "stream",
     "text": [
      "Model Accuracy: 1.0\n"
     ]
    }
   ],
   "source": [
    "print(f\"Model Accuracy: {accuracy}\")"
   ]
  }
 ],
 "metadata": {
  "kernelspec": {
   "display_name": "mlops_assignment",
   "language": "python",
   "name": "python3"
  },
  "language_info": {
   "codemirror_mode": {
    "name": "ipython",
    "version": 3
   },
   "file_extension": ".py",
   "mimetype": "text/x-python",
   "name": "python",
   "nbconvert_exporter": "python",
   "pygments_lexer": "ipython3",
   "version": "3.12.1"
  }
 },
 "nbformat": 4,
 "nbformat_minor": 2
}
